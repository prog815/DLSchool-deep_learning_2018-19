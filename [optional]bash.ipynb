{
  "nbformat": 4,
  "nbformat_minor": 0,
  "metadata": {
    "colab": {
      "name": "[optional]bash.ipynb",
      "provenance": [],
      "include_colab_link": true
    },
    "kernelspec": {
      "name": "python3",
      "display_name": "Python 3"
    }
  },
  "cells": [
    {
      "cell_type": "markdown",
      "metadata": {
        "id": "view-in-github",
        "colab_type": "text"
      },
      "source": [
        "<a href=\"https://colab.research.google.com/github/prog815/DLSchool-deep_learning_2018-19/blob/master/%5Boptional%5Dbash.ipynb\" target=\"_parent\"><img src=\"https://colab.research.google.com/assets/colab-badge.svg\" alt=\"Open In Colab\"/></a>"
      ]
    },
    {
      "cell_type": "code",
      "metadata": {
        "id": "R-ljAeWuqNN4",
        "colab_type": "code",
        "outputId": "24ec5cfa-5627-4997-fb97-82bf809625fd",
        "colab": {
          "base_uri": "https://localhost:8080/",
          "height": 134
        }
      },
      "source": [
        "!apt-get moo"
      ],
      "execution_count": 1,
      "outputs": [
        {
          "output_type": "stream",
          "text": [
            "                 (__) \n",
            "                 (oo) \n",
            "           /------\\/ \n",
            "          / |    ||   \n",
            "         *  /\\---/\\ \n",
            "            ~~   ~~   \n",
            "...\"Have you mooed today?\"...\n"
          ],
          "name": "stdout"
        }
      ]
    },
    {
      "cell_type": "markdown",
      "metadata": {
        "id": "SR5360mDq7IG",
        "colab_type": "text"
      },
      "source": [
        "В этом ноутбуке мы рассмотрим базовые команды командной строки в Linux\n",
        "\n",
        "План\n",
        "  - Команды UNIX\n",
        "  - Файловая система\n",
        "  - Аргументы к командам\n",
        "  - Переменные окружения\n"
      ]
    },
    {
      "cell_type": "markdown",
      "metadata": {
        "id": "exbUbtJhzNW0",
        "colab_type": "text"
      },
      "source": [
        "# Команды в UNIX"
      ]
    },
    {
      "cell_type": "markdown",
      "metadata": {
        "id": "cyxieSjTuGpw",
        "colab_type": "text"
      },
      "source": [
        "Линукс принадлежит большому семейству операционных систем под названием UNIX, коорые происходят от ОС AT&T Unix, разроботанной еще в 1970х. Mac OS, кстати тоже ее потомок.\n",
        "\n",
        "В операционных системах UNIX-типа для взаимодействия с ОС используют специальные команды. До появления окошек и кнопочек люди создавали файлы и запускали команды исключительно с помощью этих команд. \n",
        "\n",
        "Сейчас этот способ тоже исользуют, тк есть ряд преимуществ:\n",
        " - Намного более удобное подключение к компьютеру по сети\n",
        " - Иногда удобнее запустить одну команду, чем бродить по менюшкам в поисках нужной опции.\n",
        " - Ломанды можно составлять в скрипты и автоматизировать задачи\n",
        " \n",
        "\n"
      ]
    },
    {
      "cell_type": "markdown",
      "metadata": {
        "id": "4Kgd_-Jdq-HJ",
        "colab_type": "text"
      },
      "source": [
        "Небольшой ликбез по понятиям:\n",
        "\n",
        "- **Командная строка** - вид интерфейса, когда вы набираете текстовые команды\n",
        "- **Терминал** - Программа, которая отображает строку. Например: *gnome-terminal*, *xterm*, *tilda*\n",
        "- **Оболочка (shell)** - Программа которая выполняет команды. Например: *bash*, *zsh*, *ssh*\n",
        "- **Консоль** - Железо, например клавиатура и монитор."
      ]
    },
    {
      "cell_type": "markdown",
      "metadata": {
        "id": "zsNEkoiC4I3d",
        "colab_type": "text"
      },
      "source": [
        "Запускать команды можно как из терминала, так и из юпитера или колаба, поставив перед командой !"
      ]
    },
    {
      "cell_type": "code",
      "metadata": {
        "id": "wujSZ66i4UVm",
        "colab_type": "code",
        "colab": {
          "base_uri": "https://localhost:8080/",
          "height": 34
        },
        "outputId": "00b47587-96cf-41c4-9221-cc33f15491e9"
      },
      "source": [
        "!echo \"Hello World\""
      ],
      "execution_count": 2,
      "outputs": [
        {
          "output_type": "stream",
          "text": [
            "Hello World\n"
          ],
          "name": "stdout"
        }
      ]
    },
    {
      "cell_type": "markdown",
      "metadata": {
        "id": "z8n1PxRZ0j7P",
        "colab_type": "text"
      },
      "source": [
        "# Файловая система"
      ]
    },
    {
      "cell_type": "markdown",
      "metadata": {
        "id": "WwN4S7rv08JV",
        "colab_type": "text"
      },
      "source": [
        "В Unix системах все файлы образуют структуру похожую на дерево, в каждой директории(папке) хранятся файлы и другие директории. Самая первая директория которая содержит все остальные, называется корневой (*root*)\n",
        "\n",
        "\n",
        "У каждой директории есть путь (по сути, просто строка) который показывает где она находится в этом дереве. \"/\" - это путь корневой директории. \n",
        "\n",
        "---\n",
        "\n",
        "\n",
        "\n",
        "![alt text](http://linuxcommand.org/images/file_manager.jpg)\n",
        "\n",
        "В командной строке все команды выполняются в какой-либо директории.\n",
        "\n",
        "Представьте, что дерево файловой системы - это лабиринт, и каждая директория - это комната с файлами и дверьми в другие директории. В каждый момент времени вы находитесь в одной комнате.\n",
        "\n",
        "Посмотрм, как нам ходить по нашему лабиринту."
      ]
    },
    {
      "cell_type": "code",
      "metadata": {
        "id": "j2I1ZXrKq0tp",
        "colab_type": "code",
        "colab": {
          "base_uri": "https://localhost:8080/",
          "height": 34
        },
        "outputId": "8a60b59f-39cd-4303-9c68-d88ec57b8829"
      },
      "source": [
        "# Выведем путь текущей директории\n",
        "!pwd"
      ],
      "execution_count": 3,
      "outputs": [
        {
          "output_type": "stream",
          "text": [
            "/content\n"
          ],
          "name": "stdout"
        }
      ]
    },
    {
      "cell_type": "code",
      "metadata": {
        "id": "9sQwAxoT5-kO",
        "colab_type": "code",
        "colab": {
          "base_uri": "https://localhost:8080/",
          "height": 34
        },
        "outputId": "d77b7ad8-6e99-445c-adfc-e3ae4f19837d"
      },
      "source": [
        "# Посмотрим что в нашей директории есть\n",
        "!ls \n",
        "#ls is for \"list\""
      ],
      "execution_count": 4,
      "outputs": [
        {
          "output_type": "stream",
          "text": [
            "sample_data\n"
          ],
          "name": "stdout"
        }
      ]
    },
    {
      "cell_type": "markdown",
      "metadata": {
        "id": "6nxK6kkD7b_f",
        "colab_type": "text"
      },
      "source": [
        "Некоторые директории хранят файлы необходимые для работы программ. В них нужно что-либо менять только если значешь, что делаешь. \n",
        "\n",
        "Это так называемые скрытые директории (hidden или dot directories/files)."
      ]
    },
    {
      "cell_type": "code",
      "metadata": {
        "id": "OVS6HKB26mG2",
        "colab_type": "code",
        "colab": {}
      },
      "source": [
        "#"
      ],
      "execution_count": 0,
      "outputs": []
    },
    {
      "cell_type": "code",
      "metadata": {
        "id": "nYL2dtfK6iWP",
        "colab_type": "code",
        "colab": {
          "base_uri": "https://localhost:8080/",
          "height": 34
        },
        "outputId": "ca1bad72-0ecb-43fc-dc6b-ce9ffb229b8f"
      },
      "source": [
        "#Создадим пустой файлик\n",
        "! touch test-file\n",
        "# пробел в имени - плохая идея, создадутся два файла\n",
        "! touch hello world\n",
        "\n",
        "# посмотрим что получилось\n",
        "! ls"
      ],
      "execution_count": 6,
      "outputs": [
        {
          "output_type": "stream",
          "text": [
            "hello  sample_data  test-file  world\n"
          ],
          "name": "stdout"
        }
      ]
    },
    {
      "cell_type": "code",
      "metadata": {
        "id": "AFTolllI-gJH",
        "colab_type": "code",
        "colab": {
          "base_uri": "https://localhost:8080/",
          "height": 34
        },
        "outputId": "64a0ac32-065b-4c4e-92e6-39a7cc09abf2"
      },
      "source": [
        "#Удаление файлов\n",
        "! rm world\n",
        "! ls"
      ],
      "execution_count": 7,
      "outputs": [
        {
          "output_type": "stream",
          "text": [
            "hello  sample_data  test-file\n"
          ],
          "name": "stdout"
        }
      ]
    },
    {
      "cell_type": "code",
      "metadata": {
        "id": "dkLsVgkX_RNT",
        "colab_type": "code",
        "colab": {}
      },
      "source": [
        "# Новая директория\n",
        "! mkdir please_come_here\n"
      ],
      "execution_count": 0,
      "outputs": []
    },
    {
      "cell_type": "markdown",
      "metadata": {
        "id": "hgVO1IAOAseT",
        "colab_type": "text"
      },
      "source": [
        "Некоторые директории хранят файлы необходимые для работы программ. В них нужно что-либо менять только если значешь, что делаешь.\n",
        "\n",
        "Это так называемые скрытые директории (hidden или dot directories/files).\n"
      ]
    },
    {
      "cell_type": "code",
      "metadata": {
        "id": "JTxijZDRq8bN",
        "colab_type": "code",
        "colab": {
          "base_uri": "https://localhost:8080/",
          "height": 151
        },
        "outputId": "4b4e5a50-c2f0-46cd-e293-f8f40d77cdeb"
      },
      "source": [
        "# Покажем больше информации и отобразим скрытые файлы\n",
        "!ls -al\n",
        "# Первое слово - команда, а второе - аргумент"
      ],
      "execution_count": 9,
      "outputs": [
        {
          "output_type": "stream",
          "text": [
            "total 20\n",
            "drwxr-xr-x 1 root root 4096 Sep 28 17:45 .\n",
            "drwxr-xr-x 1 root root 4096 Sep 28 17:35 ..\n",
            "drwxr-xr-x 1 root root 4096 Sep 18 16:07 .config\n",
            "-rw-r--r-- 1 root root    0 Sep 28 17:45 hello\n",
            "drwxr-xr-x 2 root root 4096 Sep 28 17:45 please_come_here\n",
            "drwxr-xr-x 1 root root 4096 Aug 27 16:17 sample_data\n",
            "-rw-r--r-- 1 root root    0 Sep 28 17:45 test-file\n"
          ],
          "name": "stdout"
        }
      ]
    },
    {
      "cell_type": "markdown",
      "metadata": {
        "id": "K8Tei_Rz8ELQ",
        "colab_type": "text"
      },
      "source": [
        "\n",
        "\n",
        "```\n",
        ".  - это путь к той директории в которой мы уже находимся\n",
        ".. - это путь к родительской директории\n",
        ".config - это скрытая папка\n",
        "```\n",
        "\n",
        "Каждая строчка - это одна из \"дверей\" в другую директорию либо файл.\n",
        "*Относительный* путь это не полный \"адрес\" директории а то, куда нам нужно пойти из места в котором мы сейчас находимся. \n",
        "\n",
        "\n",
        "```\n",
        " drwxr-xr-x 1 root root 4096 Feb 15 17:21 please_come_here\n",
        " |                           дата создания    |\n",
        " |                                         _относительный_ путь\n",
        " |\n",
        "  \\ эта метка значит, что это путь к другой директории\n",
        "```\n",
        "\n"
      ]
    },
    {
      "cell_type": "code",
      "metadata": {
        "id": "ozI5vv-G_Ato",
        "colab_type": "code",
        "colab": {
          "base_uri": "https://localhost:8080/",
          "height": 50
        },
        "outputId": "5cf11262-0d11-4353-b586-c2729c414073"
      },
      "source": [
        "# переход в другую директорию команда cd\n",
        "! pwd\n",
        "! cd please_come_here\n",
        "! pwd"
      ],
      "execution_count": 10,
      "outputs": [
        {
          "output_type": "stream",
          "text": [
            "/content\n",
            "/content\n"
          ],
          "name": "stdout"
        }
      ]
    },
    {
      "cell_type": "markdown",
      "metadata": {
        "id": "j1YxW23TCoDo",
        "colab_type": "text"
      },
      "source": [
        "Заработало?\n",
        "\n",
        "Не должно. Тут проблема в том что юпитер запускает каждый раз новую оболочку в своей директории (той, откуда его вызвали) , и после завершения команды она закрывается.\n",
        "\n",
        "Чтоб команды запускались в новой директории нужно поменять директорию самого юпитера.\n",
        "\n",
        "\n",
        "```\n",
        "%cd\n",
        "```\n",
        "\n"
      ]
    },
    {
      "cell_type": "code",
      "metadata": {
        "id": "KwJPa7wBA7QK",
        "colab_type": "code",
        "colab": {
          "base_uri": "https://localhost:8080/",
          "height": 67
        },
        "outputId": "ea2345c3-5426-4696-d957-81c34fa8ae85"
      },
      "source": [
        "! pwd\n",
        "% cd please_come_here\n",
        "! pwd"
      ],
      "execution_count": 11,
      "outputs": [
        {
          "output_type": "stream",
          "text": [
            "/content\n",
            "/content/please_come_here\n",
            "/content/please_come_here\n"
          ],
          "name": "stdout"
        }
      ]
    },
    {
      "cell_type": "markdown",
      "metadata": {
        "id": "XkxqDBlcpvtR",
        "colab_type": "text"
      },
      "source": [
        "Когда мы переходим в другую директорию, ее имя добавляется к нашему пути через \"/\"\n",
        "\n",
        "Например, были в `/home`, перешли в директорию `Pictures `оказались в `/home/Pictures`\n",
        "\n",
        "Абсолютный путь файла в этой директории будет /home/Picutes/image.png \n",
        "\n",
        "Если мы хотим взять файл из директории, которая является дочерней к той директории, где мы сейчас находимся, мы можем указать относительный путь файла.\n",
        "\n",
        "Например, из директории `/home` мы должны обращаться к нему по пути `Pictures/image.png`"
      ]
    },
    {
      "cell_type": "code",
      "metadata": {
        "id": "2HUAw_NLBKyb",
        "colab_type": "code",
        "colab": {
          "base_uri": "https://localhost:8080/",
          "height": 101
        },
        "outputId": "e6637ffa-c925-4e6e-b285-626d2acddad2"
      },
      "source": [
        "# команды можно комбинировать в одну символом &\n",
        "! ls & ls -a & pwd\n",
        "%cd ..\n",
        "\n",
        "# Чтоб команды выполнялись одна за одной нужно использовать &&\n",
        "! pwd && cd please_come_here && pwd"
      ],
      "execution_count": 12,
      "outputs": [
        {
          "output_type": "stream",
          "text": [
            "/content/please_come_here\n",
            ".  ..\n",
            "/content\n",
            "/content\n",
            "/content/please_come_here\n"
          ],
          "name": "stdout"
        }
      ]
    },
    {
      "cell_type": "markdown",
      "metadata": {
        "id": "hDuUsb-hSmsJ",
        "colab_type": "text"
      },
      "source": [
        "## Запись и чтение в файлы"
      ]
    },
    {
      "cell_type": "code",
      "metadata": {
        "id": "KzJChjwnRhm4",
        "colab_type": "code",
        "colab": {
          "base_uri": "https://localhost:8080/",
          "height": 34
        },
        "outputId": "a0fcc968-7a6a-4737-d8a8-bd53ab94eff0"
      },
      "source": [
        "# Вывести текст в консоль\n",
        "\n",
        "!echo \"Sample text Пример текста\"\n",
        "# Echo - потому что команда выводит на выход то же, что и получает"
      ],
      "execution_count": 13,
      "outputs": [
        {
          "output_type": "stream",
          "text": [
            "Sample text Пример текста\n"
          ],
          "name": "stdout"
        }
      ]
    },
    {
      "cell_type": "code",
      "metadata": {
        "id": "WKrcMKg9R-I5",
        "colab_type": "code",
        "colab": {}
      },
      "source": [
        "# Вместо консоли отправить в файл\n",
        "\n",
        "! echo \"London is the capital of Great Britain\" >> English.txt\n"
      ],
      "execution_count": 0,
      "outputs": []
    },
    {
      "cell_type": "code",
      "metadata": {
        "id": "4Ht2nwgeSXhi",
        "colab_type": "code",
        "colab": {
          "base_uri": "https://localhost:8080/",
          "height": 34
        },
        "outputId": "fedb94d0-0a50-4e74-d3e1-e7b5b594ca69"
      },
      "source": [
        "# Прочитать файл и вывести в консоль\n",
        "\n",
        "! cat English.txt"
      ],
      "execution_count": 15,
      "outputs": [
        {
          "output_type": "stream",
          "text": [
            "London is the capital of Great Britain\n"
          ],
          "name": "stdout"
        }
      ]
    },
    {
      "cell_type": "markdown",
      "metadata": {
        "id": "9DRyKxZJUdNx",
        "colab_type": "text"
      },
      "source": [
        "## Скачивание из интернета"
      ]
    },
    {
      "cell_type": "code",
      "metadata": {
        "id": "EzS_vui3Ucer",
        "colab_type": "code",
        "colab": {
          "base_uri": "https://localhost:8080/",
          "height": 924
        },
        "outputId": "253d17bc-7640-4fc7-e289-923634a4b210"
      },
      "source": [
        "# сохраняем старницу по адресу\n",
        "\n",
        "! curl example.com >> example-com.html\n",
        "! ls\n",
        "! cat example-com.html\n"
      ],
      "execution_count": 16,
      "outputs": [
        {
          "output_type": "stream",
          "text": [
            "  % Total    % Received % Xferd  Average Speed   Time    Time     Time  Current\n",
            "                                 Dload  Upload   Total   Spent    Left  Speed\n",
            "\r  0     0    0     0    0     0      0      0 --:--:-- --:--:-- --:--:--     0\r100  1270  100  1270    0     0  43793      0 --:--:-- --:--:-- --:--:-- 45357\n",
            "English.txt  example-com.html  hello  please_come_here\tsample_data  test-file\n",
            "<!doctype html>\n",
            "<html>\n",
            "<head>\n",
            "    <title>Example Domain</title>\n",
            "\n",
            "    <meta charset=\"utf-8\" />\n",
            "    <meta http-equiv=\"Content-type\" content=\"text/html; charset=utf-8\" />\n",
            "    <meta name=\"viewport\" content=\"width=device-width, initial-scale=1\" />\n",
            "    <style type=\"text/css\">\n",
            "    body {\n",
            "        background-color: #f0f0f2;\n",
            "        margin: 0;\n",
            "        padding: 0;\n",
            "        font-family: \"Open Sans\", \"Helvetica Neue\", Helvetica, Arial, sans-serif;\n",
            "        \n",
            "    }\n",
            "    div {\n",
            "        width: 600px;\n",
            "        margin: 5em auto;\n",
            "        padding: 50px;\n",
            "        background-color: #fff;\n",
            "        border-radius: 1em;\n",
            "    }\n",
            "    a:link, a:visited {\n",
            "        color: #38488f;\n",
            "        text-decoration: none;\n",
            "    }\n",
            "    @media (max-width: 700px) {\n",
            "        body {\n",
            "            background-color: #fff;\n",
            "        }\n",
            "        div {\n",
            "            width: auto;\n",
            "            margin: 0 auto;\n",
            "            border-radius: 0;\n",
            "            padding: 1em;\n",
            "        }\n",
            "    }\n",
            "    </style>    \n",
            "</head>\n",
            "\n",
            "<body>\n",
            "<div>\n",
            "    <h1>Example Domain</h1>\n",
            "    <p>This domain is established to be used for illustrative examples in documents. You may use this\n",
            "    domain in examples without prior coordination or asking for permission.</p>\n",
            "    <p><a href=\"http://www.iana.org/domains/example\">More information...</a></p>\n",
            "</div>\n",
            "</body>\n",
            "</html>\n"
          ],
          "name": "stdout"
        }
      ]
    },
    {
      "cell_type": "code",
      "metadata": {
        "id": "bONrzreaXVkD",
        "colab_type": "code",
        "colab": {}
      },
      "source": [
        "! curl instagram.com"
      ],
      "execution_count": 0,
      "outputs": []
    },
    {
      "cell_type": "markdown",
      "metadata": {
        "id": "hdEXswC6YBCJ",
        "colab_type": "text"
      },
      "source": [
        "Иногда сервера пытаются перенаправить запрос на другой адрес. Curl не следует по таким перенаправлениям. Есть прогаммка wget которая может переходить по таким ссылкам и вообще проходить по всем ссылкам на странице и скачивать их."
      ]
    },
    {
      "cell_type": "code",
      "metadata": {
        "id": "BscMnGvUYeBT",
        "colab_type": "code",
        "colab": {
          "base_uri": "https://localhost:8080/",
          "height": 386
        },
        "outputId": "9decd3df-fc18-47a7-b38f-ec4cdd0d56e6"
      },
      "source": [
        "! wget instagram.com -O insta.html"
      ],
      "execution_count": 18,
      "outputs": [
        {
          "output_type": "stream",
          "text": [
            "--2019-09-28 17:51:09--  http://instagram.com/\n",
            "Resolving instagram.com (instagram.com)... 34.205.112.224, 52.0.99.20, 34.224.153.205, ...\n",
            "Connecting to instagram.com (instagram.com)|34.205.112.224|:80... connected.\n",
            "HTTP request sent, awaiting response... 301 Moved Permanently\n",
            "Location: https://instagram.com/ [following]\n",
            "--2019-09-28 17:51:09--  https://instagram.com/\n",
            "Connecting to instagram.com (instagram.com)|34.205.112.224|:443... connected.\n",
            "HTTP request sent, awaiting response... 301 Moved Permanently\n",
            "Location: https://www.instagram.com/ [following]\n",
            "--2019-09-28 17:51:09--  https://www.instagram.com/\n",
            "Resolving www.instagram.com (www.instagram.com)... 157.240.3.174, 2a03:2880:f201:e5:face:b00c:0:4420\n",
            "Connecting to www.instagram.com (www.instagram.com)|157.240.3.174|:443... connected.\n",
            "HTTP request sent, awaiting response... 200 OK\n",
            "Cookie coming from www.instagram.com attempted to set domain to i.instagram.com\n",
            "Cookie coming from www.instagram.com attempted to set domain to i.instagram.com\n",
            "Length: 36743 (36K) [text/html]\n",
            "Saving to: ‘insta.html’\n",
            "\n",
            "insta.html          100%[===================>]  35.88K  --.-KB/s    in 0.007s  \n",
            "\n",
            "2019-09-28 17:51:10 (5.19 MB/s) - ‘insta.html’ saved [36743/36743]\n",
            "\n"
          ],
          "name": "stdout"
        }
      ]
    },
    {
      "cell_type": "markdown",
      "metadata": {
        "id": "vvDscEabYqhr",
        "colab_type": "text"
      },
      "source": [
        "Обратите внимание на\n",
        "\n",
        "`HTTP request sent, awaiting response... 301 Moved Permanently`"
      ]
    },
    {
      "cell_type": "code",
      "metadata": {
        "id": "YLwadqvPYpW4",
        "colab_type": "code",
        "colab": {}
      },
      "source": [
        ""
      ],
      "execution_count": 0,
      "outputs": []
    },
    {
      "cell_type": "markdown",
      "metadata": {
        "id": "MXDgtgM3PjlU",
        "colab_type": "text"
      },
      "source": [
        "# Аргументы и параметры к командам"
      ]
    },
    {
      "cell_type": "markdown",
      "metadata": {
        "id": "L5t2LkSzPwFa",
        "colab_type": "text"
      },
      "source": [
        "Обычно аргументы – это то, над чем выполняется команда. Например, команда перехода в другую директорию должна получить в качестве аргумента путь директории, куда следует перейти. Команде вывода на экран содержимого файла надо передать имя файла.\n",
        "\n",
        "Параметры модифицируют, как бы видоизменяют работу программы. Например, с помощью команды просмотра содержимого каталога можно вывести простой список вложенных объектов. Используя же определенный параметр, можно получить подробные сведения о каждом файле и папке.\n",
        "\n",
        "Аргументы идут через пробел как отдельные слова\n",
        "\n",
        "Параметры идут после дефиса: ` -f` (однобуквенные) либо после двух дефисов: `--file`  "
      ]
    },
    {
      "cell_type": "code",
      "metadata": {
        "id": "uXUizaaSBnsl",
        "colab_type": "code",
        "colab": {
          "base_uri": "https://localhost:8080/",
          "height": 470
        },
        "outputId": "4bdc4e78-826b-4ea7-a063-6bb654ee57b8"
      },
      "source": [
        "# календарик на весь год\n",
        "\n",
        "!ncal 2019\n"
      ],
      "execution_count": 19,
      "outputs": [
        {
          "output_type": "stream",
          "text": [
            "                                  2019\n",
            "    January           February          March             April             \n",
            "Su     6 13 20 27        3 10 17 24        3 10 17 24 31     7 14 21 28   \n",
            "Mo     7 14 21 28        4 11 18 25        4 11 18 25     1  8 15 22 29   \n",
            "Tu  1  8 15 22 29        5 12 19 26        5 12 19 26     2  9 16 23 30   \n",
            "We  2  9 16 23 30        6 13 20 27        6 13 20 27     3 10 17 24      \n",
            "Th  3 10 17 24 31        7 14 21 28        7 14 21 28     4 11 18 25      \n",
            "Fr  4 11 18 25        1  8 15 22        1  8 15 22 29     5 12 19 26      \n",
            "Sa  5 12 19 26        2  9 16 23        2  9 16 23 30     6 13 20 27      \n",
            "\n",
            "    May               June              July              August            \n",
            "Su     5 12 19 26        2  9 16 23 30     7 14 21 28        4 11 18 25   \n",
            "Mo     6 13 20 27        3 10 17 24     1  8 15 22 29        5 12 19 26   \n",
            "Tu     7 14 21 28        4 11 18 25     2  9 16 23 30        6 13 20 27   \n",
            "We  1  8 15 22 29        5 12 19 26     3 10 17 24 31        7 14 21 28   \n",
            "Th  2  9 16 23 30        6 13 20 27     4 11 18 25        1  8 15 22 29   \n",
            "Fr  3 10 17 24 31        7 14 21 28     5 12 19 26        2  9 16 23 30   \n",
            "Sa  4 11 18 25        1  8 15 22 29     6 13 20 27        3 10 17 24 31   \n",
            "\n",
            "    September         October           November          December          \n",
            "Su  1  8 15 22 29        6 13 20 27        3 10 17 24     1  8 15 22 29   \n",
            "Mo  2  9 16 23 30        7 14 21 28        4 11 18 25     2  9 16 23 30   \n",
            "Tu  3 10 17 24        1  8 15 22 29        5 12 19 26     3 10 17 24 31   \n",
            "We  4 11 18 25        2  9 16 23 30        6 13 20 27     4 11 18 25      \n",
            "Th  5 12 19 26        3 10 17 24 31        7 14 21 28     5 12 19 26      \n",
            "Fr  6 13 20 27        4 11 18 25        1  8 15 22 29     6 13 20 27      \n",
            "Sa  7 14 21 \u001b[7m28\u001b[m        5 12 19 26        2  9 16 23 30     7 14 21 28      \n"
          ],
          "name": "stdout"
        }
      ]
    },
    {
      "cell_type": "code",
      "metadata": {
        "id": "2aciKu7IB5Vm",
        "colab_type": "code",
        "colab": {
          "base_uri": "https://localhost:8080/",
          "height": 151
        },
        "outputId": "3209a028-782a-4d61-9afe-76413e196fa6"
      },
      "source": [
        "# передаем 2 аргумента\n",
        "\n",
        "!ncal 03 2019\n"
      ],
      "execution_count": 20,
      "outputs": [
        {
          "output_type": "stream",
          "text": [
            "    March 2019        \n",
            "Su     3 10 17 24 31\n",
            "Mo     4 11 18 25   \n",
            "Tu     5 12 19 26   \n",
            "We     6 13 20 27   \n",
            "Th     7 14 21 28   \n",
            "Fr  1  8 15 22 29   \n",
            "Sa  2  9 16 23 30   \n"
          ],
          "name": "stdout"
        }
      ]
    },
    {
      "cell_type": "code",
      "metadata": {
        "id": "4l3d14WtfIAA",
        "colab_type": "code",
        "colab": {
          "base_uri": "https://localhost:8080/",
          "height": 151
        },
        "outputId": "7e985ff7-7ec3-4ce2-8b8c-847d136527c0"
      },
      "source": [
        "# передаем параметр -b\n",
        "\n",
        "!ncal -b 03 2019\n"
      ],
      "execution_count": 21,
      "outputs": [
        {
          "output_type": "stream",
          "text": [
            "     March 2019       \n",
            "Su Mo Tu We Th Fr Sa  \n",
            "                1  2  \n",
            " 3  4  5  6  7  8  9  \n",
            "10 11 12 13 14 15 16  \n",
            "17 18 19 20 21 22 23  \n",
            "24 25 26 27 28 29 30  \n",
            "31                    \n"
          ],
          "name": "stdout"
        }
      ]
    },
    {
      "cell_type": "code",
      "metadata": {
        "id": "vk9NUxh4fQPy",
        "colab_type": "code",
        "colab": {
          "base_uri": "https://localhost:8080/",
          "height": 286
        },
        "outputId": "18431ac9-a4a3-46cb-868c-587da1af6a43"
      },
      "source": [
        "# Однобуквенные параметры можно склеивать\n",
        "\n",
        "!ncal -b -w 03 2019\n",
        "!ncal -bw 03 2019"
      ],
      "execution_count": 22,
      "outputs": [
        {
          "output_type": "stream",
          "text": [
            "       March 2019          \n",
            " w| Su Mo Tu We Th Fr Sa   \n",
            " 8|                 1  2   \n",
            " 9|  3  4  5  6  7  8  9   \n",
            "10| 10 11 12 13 14 15 16   \n",
            "11| 17 18 19 20 21 22 23   \n",
            "12| 24 25 26 27 28 29 30   \n",
            "13| 31                     \n",
            "       March 2019          \n",
            " w| Su Mo Tu We Th Fr Sa   \n",
            " 8|                 1  2   \n",
            " 9|  3  4  5  6  7  8  9   \n",
            "10| 10 11 12 13 14 15 16   \n",
            "11| 17 18 19 20 21 22 23   \n",
            "12| 24 25 26 27 28 29 30   \n",
            "13| 31                     \n"
          ],
          "name": "stdout"
        }
      ]
    },
    {
      "cell_type": "markdown",
      "metadata": {
        "id": "V7jcOwBpgd1U",
        "colab_type": "text"
      },
      "source": [
        "# Переменные окружения"
      ]
    },
    {
      "cell_type": "markdown",
      "metadata": {
        "id": "gm-YZUlLi0lT",
        "colab_type": "text"
      },
      "source": [
        "Оболочка в себе содержит так называемые переменные окружения - глобальные константы которые доступны всем программам которые она выполняет. В них удобно хранить например путь к конфигурационным файлам или порт какого нибудь сервиса.\n",
        "\n",
        "Переменные окружения зачастую определяют как ведет себя программа. Например, питон ищет пакеты в переменной `PYTHONPATH`\n",
        "\n",
        "В переменной `PATH` находятся пути в которых Bash ищет исполняемые файлы для других программ\n"
      ]
    },
    {
      "cell_type": "code",
      "metadata": {
        "id": "QRCUr1pTfQLZ",
        "colab_type": "code",
        "colab": {
          "base_uri": "https://localhost:8080/",
          "height": 34
        },
        "outputId": "014df4db-47c2-4ae0-9ac9-a2e5aa437602"
      },
      "source": [
        "# обьявляем переменную и считываем ее ($ перед именем)\n",
        "!FOO=kindersurprise && echo $FOO"
      ],
      "execution_count": 23,
      "outputs": [
        {
          "output_type": "stream",
          "text": [
            "kindersurprise\n"
          ],
          "name": "stdout"
        }
      ]
    },
    {
      "cell_type": "code",
      "metadata": {
        "id": "ow-40MynjgVV",
        "colab_type": "code",
        "colab": {
          "base_uri": "https://localhost:8080/",
          "height": 50
        },
        "outputId": "2c37381d-1f21-4041-fe1f-5e13edb38420"
      },
      "source": [
        "!echo $PATH\n",
        "!echo $PYTHONPATH"
      ],
      "execution_count": 24,
      "outputs": [
        {
          "output_type": "stream",
          "text": [
            "/usr/local/nvidia/bin:/usr/local/cuda/bin:/usr/local/sbin:/usr/local/bin:/usr/sbin:/usr/bin:/sbin:/bin:/tools/node/bin:/tools/google-cloud-sdk/bin:/opt/bin\n",
            "/env/python\n"
          ],
          "name": "stdout"
        }
      ]
    },
    {
      "cell_type": "markdown",
      "metadata": {
        "id": "n9L5dgVwkzhV",
        "colab_type": "text"
      },
      "source": [
        "Мы можем создать новую папку и заставить питон думать что в ней лежит модуль"
      ]
    },
    {
      "cell_type": "code",
      "metadata": {
        "id": "uA50ME6BktK9",
        "colab_type": "code",
        "colab": {
          "base_uri": "https://localhost:8080/",
          "height": 34
        },
        "outputId": "e99838de-674d-42d7-95d3-225e51b850d1"
      },
      "source": [
        "! rm -r fakemodule\n",
        "!mkdir fakemodule\n",
        "!mkdir fakemodule/power\n",
        "! echo \"print('A great power comes with a great responsibility')\" >> fakemodule/power/__init__.py\n",
        "\n",
        "\n"
      ],
      "execution_count": 25,
      "outputs": [
        {
          "output_type": "stream",
          "text": [
            "rm: cannot remove 'fakemodule': No such file or directory\n"
          ],
          "name": "stdout"
        }
      ]
    },
    {
      "cell_type": "code",
      "metadata": {
        "id": "QgLMIDMkuRTk",
        "colab_type": "code",
        "colab": {
          "base_uri": "https://localhost:8080/",
          "height": 50
        },
        "outputId": "72291908-7898-4895-e738-a51e9dc44a54"
      },
      "source": [
        "!export a=\"Эта переменная будет доступна другим программам вызванным в той же оболочке\" && echo $a\n",
        "# Но тут уже не получится, для каждой команды Jupyter запускает свою оболочку \n",
        "! echo $a"
      ],
      "execution_count": 26,
      "outputs": [
        {
          "output_type": "stream",
          "text": [
            "Эта переменная будет доступна другим программам вызванным в той же оболочке\n",
            "\n"
          ],
          "name": "stdout"
        }
      ]
    },
    {
      "cell_type": "code",
      "metadata": {
        "id": "y1v9jifPlRZv",
        "colab_type": "code",
        "colab": {
          "base_uri": "https://localhost:8080/",
          "height": 34
        },
        "outputId": "e8d2f5d9-9120-455e-b2ac-5969dad23309"
      },
      "source": [
        "! PYTHONPATH=$PYTHONPATH:$(pwd)/fakemodule && python -c 'import power'"
      ],
      "execution_count": 27,
      "outputs": [
        {
          "output_type": "stream",
          "text": [
            "A great power comes with a great responsibility\n"
          ],
          "name": "stdout"
        }
      ]
    },
    {
      "cell_type": "markdown",
      "metadata": {
        "id": "nU9-VI-ErsHX",
        "colab_type": "text"
      },
      "source": [
        "конструкция `$(pwd)` подставляет вывод команды `pwd` в выражение. \n",
        "\n",
        "\n",
        "```\n",
        "PYTHONPATH=$PYTHONPATH:$(pwd)/fakemodule\n",
        "\n",
        "```\n",
        "После подстановки переменных мы получим \n",
        "\n",
        "```\n",
        "PYTHONPATH=<то что было в PYTHONPATH>:<текущая директория>/fakemodule\n",
        "\n",
        "```\n",
        "Это добавит нашу fakemodule в переменную окружения и позволит питону найти наш модуль\n",
        "\n"
      ]
    },
    {
      "cell_type": "code",
      "metadata": {
        "id": "62Ue2ovHmnTC",
        "colab_type": "code",
        "colab": {}
      },
      "source": [
        ""
      ],
      "execution_count": 0,
      "outputs": []
    },
    {
      "cell_type": "code",
      "metadata": {
        "id": "p2lQ4YhLms_j",
        "colab_type": "code",
        "colab": {}
      },
      "source": [
        ""
      ],
      "execution_count": 0,
      "outputs": []
    },
    {
      "cell_type": "code",
      "metadata": {
        "id": "A4FyM3HZoThB",
        "colab_type": "code",
        "colab": {}
      },
      "source": [
        ""
      ],
      "execution_count": 0,
      "outputs": []
    }
  ]
}